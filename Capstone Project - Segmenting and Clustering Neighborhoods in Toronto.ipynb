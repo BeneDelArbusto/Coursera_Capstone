{
 "cells": [
  {
   "cell_type": "markdown",
   "metadata": {},
   "source": [
    "# Segmenting and Clustering Neighborhoods in Toronto\n",
    "#### *Jupyter-Notebook for the Capstone Project of IBM's Professional Certificate in Data Science*"
   ]
  },
  {
   "cell_type": "markdown",
   "metadata": {},
   "source": [
    "## Part 1 of the final submission"
   ]
  },
  {
   "cell_type": "code",
   "execution_count": 1,
   "metadata": {},
   "outputs": [],
   "source": [
    "# import required libraries\n",
    "import pandas as pd\n",
    "import requests\n",
    "from bs4 import BeautifulSoup"
   ]
  },
  {
   "cell_type": "markdown",
   "metadata": {},
   "source": [
    "#### Scraping Toronto's postal code data from Wikipedia page"
   ]
  },
  {
   "cell_type": "markdown",
   "metadata": {},
   "source": [
    "Get the required Wikipedia page"
   ]
  },
  {
   "cell_type": "code",
   "execution_count": 2,
   "metadata": {},
   "outputs": [],
   "source": [
    "html = requests.get(\"https://en.wikipedia.org/wiki/List_of_postal_codes_of_Canada:_M\")"
   ]
  },
  {
   "cell_type": "markdown",
   "metadata": {},
   "source": [
    "Create a \"beautiful soup\"-object using the text of the requested Wikipedia page"
   ]
  },
  {
   "cell_type": "code",
   "execution_count": 3,
   "metadata": {},
   "outputs": [],
   "source": [
    "soup = BeautifulSoup(html.text, 'lxml')"
   ]
  },
  {
   "cell_type": "markdown",
   "metadata": {},
   "source": [
    "Extract the table of postal codes from the soup object"
   ]
  },
  {
   "cell_type": "code",
   "execution_count": 4,
   "metadata": {},
   "outputs": [],
   "source": [
    "table = soup.find('table')"
   ]
  },
  {
   "cell_type": "markdown",
   "metadata": {},
   "source": [
    "Read the extracted HTML-table into the pandas dataframe 'toronto_hoods'"
   ]
  },
  {
   "cell_type": "code",
   "execution_count": 5,
   "metadata": {},
   "outputs": [],
   "source": [
    "toronto_hoods = pd.read_html(str(table))[0]"
   ]
  },
  {
   "cell_type": "markdown",
   "metadata": {},
   "source": [
    "#### Cleaning the data according to the instructions"
   ]
  },
  {
   "cell_type": "markdown",
   "metadata": {},
   "source": [
    "Rename columns according to instructions"
   ]
  },
  {
   "cell_type": "code",
   "execution_count": 6,
   "metadata": {},
   "outputs": [],
   "source": [
    "toronto_hoods.columns = ['PostalCode', 'Borough', 'Neighborhood']"
   ]
  },
  {
   "cell_type": "markdown",
   "metadata": {},
   "source": [
    "Remove all rows, i.e. postal codes, for which no borough has been assigned"
   ]
  },
  {
   "cell_type": "code",
   "execution_count": 7,
   "metadata": {},
   "outputs": [],
   "source": [
    "toronto_hoods = toronto_hoods[toronto_hoods.Borough != 'Not assigned']"
   ]
  },
  {
   "cell_type": "markdown",
   "metadata": {},
   "source": [
    "Combine neighborhoods that share a postal code"
   ]
  },
  {
   "cell_type": "code",
   "execution_count": 8,
   "metadata": {},
   "outputs": [],
   "source": [
    "toronto_hoods = toronto_hoods.groupby(['PostalCode','Borough'], sort=False).agg(', '.join)\n",
    "toronto_hoods.reset_index(inplace=True)"
   ]
  },
  {
   "cell_type": "markdown",
   "metadata": {},
   "source": [
    "Use borough labels to fill up missing neighborhood labels"
   ]
  },
  {
   "cell_type": "code",
   "execution_count": 9,
   "metadata": {},
   "outputs": [],
   "source": [
    "toronto_hoods['Neighborhood'].replace('Not assigned', toronto_hoods['Borough'], inplace=True)"
   ]
  },
  {
   "cell_type": "markdown",
   "metadata": {},
   "source": [
    "#### Additional data cleaning "
   ]
  },
  {
   "cell_type": "markdown",
   "metadata": {},
   "source": [
    "There are duplicates among the neigborhood labels:"
   ]
  },
  {
   "cell_type": "code",
   "execution_count": 10,
   "metadata": {},
   "outputs": [
    {
     "name": "stdout",
     "output_type": "stream",
     "text": [
      "---------------------------------------------------------------------------\n",
      "Duplicate Neighborhood Labels:\n",
      "\n",
      " Downsview                                                                                         4\n",
      "Don Mills                                                                                         2\n",
      "Northwest, West Humber - Clairville                                                               1\n",
      "Commerce Court, Victoria Hotel                                                                    1\n",
      "Bedford Park, Lawrence Manor East                                                                 1\n",
      "                                                                                                 ..\n",
      "Mimico NW, The Queensway West, South of Bloor, Kingsway Park South West, Royal York South West    1\n",
      "Little Portugal, Trinity                                                                          1\n",
      "Del Ray, Mount Dennis, Keelsdale and Silverthorn                                                  1\n",
      "Guildwood, Morningside, West Hill                                                                 1\n",
      "Westmount                                                                                         1\n",
      "Name: Neighborhood, Length: 99, dtype: int64 \n",
      "\n",
      "---------------------------------------------------------------------------\n"
     ]
    }
   ],
   "source": [
    "print(\"---------------------------------------------------------------------------\")\n",
    "print(\"Duplicate Neighborhood Labels:\\n\\n\",toronto_hoods['Neighborhood'].value_counts(),\"\\n\")\n",
    "print(\"---------------------------------------------------------------------------\")"
   ]
  },
  {
   "cell_type": "markdown",
   "metadata": {},
   "source": [
    "Add numbers to distinguish between different postal code areas of a neighborhood"
   ]
  },
  {
   "cell_type": "code",
   "execution_count": 11,
   "metadata": {},
   "outputs": [],
   "source": [
    "toronto_hoods['duplicates'] = toronto_hoods['Neighborhood'].duplicated(keep=False)\n",
    "toronto_hoods['duplicate_count'] = toronto_hoods.groupby(['Neighborhood']).cumcount()\n",
    "toronto_hoods['Neighborhood'] = (toronto_hoods['Neighborhood'] + toronto_hoods['duplicate_count'][toronto_hoods['duplicate_count']>0].astype(str)).fillna(toronto_hoods['Neighborhood'])"
   ]
  },
  {
   "cell_type": "markdown",
   "metadata": {},
   "source": [
    "Check outcome of the numbering procedure"
   ]
  },
  {
   "cell_type": "code",
   "execution_count": 12,
   "metadata": {
    "scrolled": true
   },
   "outputs": [
    {
     "data": {
      "text/html": [
       "<div>\n",
       "<style scoped>\n",
       "    .dataframe tbody tr th:only-of-type {\n",
       "        vertical-align: middle;\n",
       "    }\n",
       "\n",
       "    .dataframe tbody tr th {\n",
       "        vertical-align: top;\n",
       "    }\n",
       "\n",
       "    .dataframe thead th {\n",
       "        text-align: right;\n",
       "    }\n",
       "</style>\n",
       "<table border=\"1\" class=\"dataframe\">\n",
       "  <thead>\n",
       "    <tr style=\"text-align: right;\">\n",
       "      <th></th>\n",
       "      <th>PostalCode</th>\n",
       "      <th>Borough</th>\n",
       "      <th>Neighborhood</th>\n",
       "      <th>duplicates</th>\n",
       "      <th>duplicate_count</th>\n",
       "    </tr>\n",
       "  </thead>\n",
       "  <tbody>\n",
       "    <tr>\n",
       "      <th>7</th>\n",
       "      <td>M3B</td>\n",
       "      <td>North York</td>\n",
       "      <td>Don Mills</td>\n",
       "      <td>True</td>\n",
       "      <td>0</td>\n",
       "    </tr>\n",
       "    <tr>\n",
       "      <th>13</th>\n",
       "      <td>M3C</td>\n",
       "      <td>North York</td>\n",
       "      <td>Don Mills1</td>\n",
       "      <td>True</td>\n",
       "      <td>1</td>\n",
       "    </tr>\n",
       "    <tr>\n",
       "      <th>40</th>\n",
       "      <td>M3K</td>\n",
       "      <td>North York</td>\n",
       "      <td>Downsview</td>\n",
       "      <td>True</td>\n",
       "      <td>0</td>\n",
       "    </tr>\n",
       "    <tr>\n",
       "      <th>46</th>\n",
       "      <td>M3L</td>\n",
       "      <td>North York</td>\n",
       "      <td>Downsview1</td>\n",
       "      <td>True</td>\n",
       "      <td>1</td>\n",
       "    </tr>\n",
       "    <tr>\n",
       "      <th>53</th>\n",
       "      <td>M3M</td>\n",
       "      <td>North York</td>\n",
       "      <td>Downsview2</td>\n",
       "      <td>True</td>\n",
       "      <td>2</td>\n",
       "    </tr>\n",
       "    <tr>\n",
       "      <th>60</th>\n",
       "      <td>M3N</td>\n",
       "      <td>North York</td>\n",
       "      <td>Downsview3</td>\n",
       "      <td>True</td>\n",
       "      <td>3</td>\n",
       "    </tr>\n",
       "  </tbody>\n",
       "</table>\n",
       "</div>"
      ],
      "text/plain": [
       "   PostalCode     Borough Neighborhood  duplicates  duplicate_count\n",
       "7         M3B  North York    Don Mills        True                0\n",
       "13        M3C  North York   Don Mills1        True                1\n",
       "40        M3K  North York    Downsview        True                0\n",
       "46        M3L  North York   Downsview1        True                1\n",
       "53        M3M  North York   Downsview2        True                2\n",
       "60        M3N  North York   Downsview3        True                3"
      ]
     },
     "execution_count": 12,
     "metadata": {},
     "output_type": "execute_result"
    }
   ],
   "source": [
    "toronto_hoods[toronto_hoods['duplicates'] == True]"
   ]
  },
  {
   "cell_type": "markdown",
   "metadata": {},
   "source": [
    "Delete auxiliary variables 'duplicates' and 'duplicate_count'"
   ]
  },
  {
   "cell_type": "code",
   "execution_count": 13,
   "metadata": {},
   "outputs": [],
   "source": [
    "toronto_hoods.drop(['duplicates', 'duplicate_count'], axis = 1, inplace = True)"
   ]
  },
  {
   "cell_type": "markdown",
   "metadata": {},
   "source": [
    "#### Final inspection of the resulting data set"
   ]
  },
  {
   "cell_type": "code",
   "execution_count": 14,
   "metadata": {},
   "outputs": [
    {
     "data": {
      "text/html": [
       "<div>\n",
       "<style scoped>\n",
       "    .dataframe tbody tr th:only-of-type {\n",
       "        vertical-align: middle;\n",
       "    }\n",
       "\n",
       "    .dataframe tbody tr th {\n",
       "        vertical-align: top;\n",
       "    }\n",
       "\n",
       "    .dataframe thead th {\n",
       "        text-align: right;\n",
       "    }\n",
       "</style>\n",
       "<table border=\"1\" class=\"dataframe\">\n",
       "  <thead>\n",
       "    <tr style=\"text-align: right;\">\n",
       "      <th></th>\n",
       "      <th>PostalCode</th>\n",
       "      <th>Borough</th>\n",
       "      <th>Neighborhood</th>\n",
       "    </tr>\n",
       "  </thead>\n",
       "  <tbody>\n",
       "    <tr>\n",
       "      <th>0</th>\n",
       "      <td>M3A</td>\n",
       "      <td>North York</td>\n",
       "      <td>Parkwoods</td>\n",
       "    </tr>\n",
       "    <tr>\n",
       "      <th>1</th>\n",
       "      <td>M4A</td>\n",
       "      <td>North York</td>\n",
       "      <td>Victoria Village</td>\n",
       "    </tr>\n",
       "    <tr>\n",
       "      <th>2</th>\n",
       "      <td>M5A</td>\n",
       "      <td>Downtown Toronto</td>\n",
       "      <td>Regent Park, Harbourfront</td>\n",
       "    </tr>\n",
       "    <tr>\n",
       "      <th>3</th>\n",
       "      <td>M6A</td>\n",
       "      <td>North York</td>\n",
       "      <td>Lawrence Manor, Lawrence Heights</td>\n",
       "    </tr>\n",
       "    <tr>\n",
       "      <th>4</th>\n",
       "      <td>M7A</td>\n",
       "      <td>Downtown Toronto</td>\n",
       "      <td>Queen's Park, Ontario Provincial Government</td>\n",
       "    </tr>\n",
       "  </tbody>\n",
       "</table>\n",
       "</div>"
      ],
      "text/plain": [
       "  PostalCode           Borough                                 Neighborhood\n",
       "0        M3A        North York                                    Parkwoods\n",
       "1        M4A        North York                             Victoria Village\n",
       "2        M5A  Downtown Toronto                    Regent Park, Harbourfront\n",
       "3        M6A        North York             Lawrence Manor, Lawrence Heights\n",
       "4        M7A  Downtown Toronto  Queen's Park, Ontario Provincial Government"
      ]
     },
     "execution_count": 14,
     "metadata": {},
     "output_type": "execute_result"
    }
   ],
   "source": [
    "toronto_hoods.head()"
   ]
  },
  {
   "cell_type": "code",
   "execution_count": 15,
   "metadata": {},
   "outputs": [
    {
     "name": "stdout",
     "output_type": "stream",
     "text": [
      "The data set contains 103 rows, i.e. neighborhoods\n"
     ]
    }
   ],
   "source": [
    "print(\"The data set contains\",toronto_hoods.shape[0],\"rows, i.e. neighborhoods\")"
   ]
  },
  {
   "cell_type": "markdown",
   "metadata": {},
   "source": [
    "\n",
    "\n",
    "\n",
    "\n",
    "\n",
    "## Part 2 of the final submission"
   ]
  },
  {
   "cell_type": "markdown",
   "metadata": {},
   "source": [
    "#### Load the prepared geospatial data on Toronto's neighborhoods"
   ]
  },
  {
   "cell_type": "code",
   "execution_count": 16,
   "metadata": {},
   "outputs": [
    {
     "name": "stderr",
     "output_type": "stream",
     "text": [
      "--2020-10-21 16:44:22--  https://cocl.us/Geospatial_data/Geospatial_Coordinates.csv\n",
      "Resolving cocl.us (cocl.us)... 169.63.96.148, 169.63.96.51\n",
      "Connecting to cocl.us (cocl.us)|169.63.96.148|:443... connected.\n",
      "HTTP request sent, awaiting response... 301 Moved Permanently\n",
      "Location: https://ibm.box.com/shared/static/9afzr83pps4pwf2smjjcf1y5mvgb18rr.csv [following]\n",
      "--2020-10-21 16:44:23--  https://ibm.box.com/shared/static/9afzr83pps4pwf2smjjcf1y5mvgb18rr.csv\n",
      "Resolving ibm.box.com (ibm.box.com)... 185.235.236.197\n",
      "Connecting to ibm.box.com (ibm.box.com)|185.235.236.197|:443... connected.\n",
      "HTTP request sent, awaiting response... 301 Moved Permanently\n",
      "Location: /public/static/9afzr83pps4pwf2smjjcf1y5mvgb18rr.csv [following]\n",
      "--2020-10-21 16:44:23--  https://ibm.box.com/public/static/9afzr83pps4pwf2smjjcf1y5mvgb18rr.csv\n",
      "Reusing existing connection to ibm.box.com:443.\n",
      "HTTP request sent, awaiting response... 301 Moved Permanently\n",
      "Location: https://ibm.ent.box.com/public/static/9afzr83pps4pwf2smjjcf1y5mvgb18rr.csv [following]\n",
      "--2020-10-21 16:44:24--  https://ibm.ent.box.com/public/static/9afzr83pps4pwf2smjjcf1y5mvgb18rr.csv\n",
      "Resolving ibm.ent.box.com (ibm.ent.box.com)... 185.235.236.201\n",
      "Connecting to ibm.ent.box.com (ibm.ent.box.com)|185.235.236.201|:443... connected.\n",
      "HTTP request sent, awaiting response... 302 Found\n",
      "Location: https://public.boxcloud.com/d/1/b1!Heq2zlu4zuJBFFiVqFZP7YBY21VFMgLnKR0GMIsIQcDGoWeEruD2PDDyWV-j-AaViZgdeCK5Q8b4RlPXKiMc8n_b8a3vZtyae_svsOSHr97KMsyweFfsQWQZLP8E4Otho5obH97fewdXTXCANdQ8eMFQ-3Nhx7-40A1-WXZ8knTgxsV5BJEpkyth-unPgcOlkhZ8XZBg0tP9hk8rM5CjEjXhwcYpuRBVbafihvAp21BUPeu1zJSSU2jZTHUBNmU66PxSC6fA9D5Lpu3ZRJTmbM42u3VlnY50G0CzSXORUh57WnNt0Cta18vMLtZdbUZJgq0daEJrCPbT6s7YL800xUfOoZoPj5OBwbZ53ZuF9dZauef3az9oFlsPJR9z-V9gwwtV50sJCdJ8fiZebSxP55uZ-C0t-aFfBQaGkMQZLLhhsGAD9dLbE3E1bUi-jniO9SjNrLohiKrn-k8cmxaj2t0Y6jUI21PwmEiPj-jT8gaH1NrC2b0_i8XpOUXWxgA6Qw-rn34PhTkBbUg2PQiaD3w0WxT-OFK76TVidaoGbeBiyZjjgsRTBM5AYRkHwE4mWEj51aRlF_Iklx7NX_CZPN5WsD5r2311X2v_p7FEcAfJyj5W0NZFoBjPR35RyYqdA-MCcshJh8jVvg9_CbNA_YB9JJnWy1shXO0XZ5hL9Sv66nKA1I9Ckle2Nb4PBBHAAtcD7HIV2o-PsbUukLlw02XOZMJ9oFeZsk97OQQ-V9S8H33d9h9cboTW_icsyXAy2pj9HskCgTXaSAv13xlaTx5xrSlAJP4RamyTPiF-D4V9Mho1MqHCZ7GSDTbtEL6RKQlB_Sc3FWzq7txsZaLKEIlP4YRPr6rIY9timcRBQuPE3N5zdTw3dKU_EKOPeSZzsOo19hl9V96NxHCT-PtLQ9keS0mxAvT50Htx-yJi0ebjo31J2k8onqjELvPsZkPf8Ql1Pe0ViO3aFCTl-7IK5LB1XapnzocNifLW0KTNabSXVPFVDUBDgqMYM1hrbKalRedg5DPBtc1S3lQ2usN6aaGbQQN44arwdvyh1kDQVUGTZwlceSsxLaWQ769b33fioEQI57E_0j-CBK73LqvV8EMJHkrPKCjTJrkM-ympjNbW-q0nSU70acHSs-YyKZuJqpY5QhJPeURadg1MAdY3LRElVA9optxIHPYqD42pZEmabjjY73Z8WhkJH_EYcyOIs6MywZD415zr5A2qmCXr2wt9ubyd9_UMvSVZKKXT2Nv6O_0GesmhyGNROeC59n1Al8NULmRctCaMEIayj7e12haw3m6k6e_TeKBhTQ68s2KybAbUEWQrmOtzcrhH-Ll_lq6c4K81f31hxaHB0E06NABS7OQ1a6BJLaNkhuplgscsHLvKim3tbObrRKHkNqAMkb2ex6fH_WQOpt7yMfZd55xkt8JK_Q-MEfP9ChP2c64M/download [following]\n",
      "--2020-10-21 16:44:25--  https://public.boxcloud.com/d/1/b1!Heq2zlu4zuJBFFiVqFZP7YBY21VFMgLnKR0GMIsIQcDGoWeEruD2PDDyWV-j-AaViZgdeCK5Q8b4RlPXKiMc8n_b8a3vZtyae_svsOSHr97KMsyweFfsQWQZLP8E4Otho5obH97fewdXTXCANdQ8eMFQ-3Nhx7-40A1-WXZ8knTgxsV5BJEpkyth-unPgcOlkhZ8XZBg0tP9hk8rM5CjEjXhwcYpuRBVbafihvAp21BUPeu1zJSSU2jZTHUBNmU66PxSC6fA9D5Lpu3ZRJTmbM42u3VlnY50G0CzSXORUh57WnNt0Cta18vMLtZdbUZJgq0daEJrCPbT6s7YL800xUfOoZoPj5OBwbZ53ZuF9dZauef3az9oFlsPJR9z-V9gwwtV50sJCdJ8fiZebSxP55uZ-C0t-aFfBQaGkMQZLLhhsGAD9dLbE3E1bUi-jniO9SjNrLohiKrn-k8cmxaj2t0Y6jUI21PwmEiPj-jT8gaH1NrC2b0_i8XpOUXWxgA6Qw-rn34PhTkBbUg2PQiaD3w0WxT-OFK76TVidaoGbeBiyZjjgsRTBM5AYRkHwE4mWEj51aRlF_Iklx7NX_CZPN5WsD5r2311X2v_p7FEcAfJyj5W0NZFoBjPR35RyYqdA-MCcshJh8jVvg9_CbNA_YB9JJnWy1shXO0XZ5hL9Sv66nKA1I9Ckle2Nb4PBBHAAtcD7HIV2o-PsbUukLlw02XOZMJ9oFeZsk97OQQ-V9S8H33d9h9cboTW_icsyXAy2pj9HskCgTXaSAv13xlaTx5xrSlAJP4RamyTPiF-D4V9Mho1MqHCZ7GSDTbtEL6RKQlB_Sc3FWzq7txsZaLKEIlP4YRPr6rIY9timcRBQuPE3N5zdTw3dKU_EKOPeSZzsOo19hl9V96NxHCT-PtLQ9keS0mxAvT50Htx-yJi0ebjo31J2k8onqjELvPsZkPf8Ql1Pe0ViO3aFCTl-7IK5LB1XapnzocNifLW0KTNabSXVPFVDUBDgqMYM1hrbKalRedg5DPBtc1S3lQ2usN6aaGbQQN44arwdvyh1kDQVUGTZwlceSsxLaWQ769b33fioEQI57E_0j-CBK73LqvV8EMJHkrPKCjTJrkM-ympjNbW-q0nSU70acHSs-YyKZuJqpY5QhJPeURadg1MAdY3LRElVA9optxIHPYqD42pZEmabjjY73Z8WhkJH_EYcyOIs6MywZD415zr5A2qmCXr2wt9ubyd9_UMvSVZKKXT2Nv6O_0GesmhyGNROeC59n1Al8NULmRctCaMEIayj7e12haw3m6k6e_TeKBhTQ68s2KybAbUEWQrmOtzcrhH-Ll_lq6c4K81f31hxaHB0E06NABS7OQ1a6BJLaNkhuplgscsHLvKim3tbObrRKHkNqAMkb2ex6fH_WQOpt7yMfZd55xkt8JK_Q-MEfP9ChP2c64M/download\n",
      "Resolving public.boxcloud.com (public.boxcloud.com)... 185.235.236.200\n",
      "Connecting to public.boxcloud.com (public.boxcloud.com)|185.235.236.200|:443... connected.\n",
      "HTTP request sent, awaiting response... 200 OK\n",
      "Length: 2891 (2,8K) [text/csv]\n",
      "Saving to: 'geospatial_data.csv'\n",
      "\n",
      "     0K ..                                                    100%  177K=0,02s\n",
      "\n",
      "2020-10-21 16:44:25 (177 KB/s) - 'geospatial_data.csv' saved [2891/2891]\n",
      "\n"
     ]
    }
   ],
   "source": [
    "!wget -O geospatial_data.csv \"https://cocl.us/Geospatial_data/Geospatial_Coordinates.csv\""
   ]
  },
  {
   "cell_type": "markdown",
   "metadata": {},
   "source": [
    "#### Read geospatial data as pandas data frame"
   ]
  },
  {
   "cell_type": "code",
   "execution_count": 17,
   "metadata": {},
   "outputs": [
    {
     "data": {
      "text/html": [
       "<div>\n",
       "<style scoped>\n",
       "    .dataframe tbody tr th:only-of-type {\n",
       "        vertical-align: middle;\n",
       "    }\n",
       "\n",
       "    .dataframe tbody tr th {\n",
       "        vertical-align: top;\n",
       "    }\n",
       "\n",
       "    .dataframe thead th {\n",
       "        text-align: right;\n",
       "    }\n",
       "</style>\n",
       "<table border=\"1\" class=\"dataframe\">\n",
       "  <thead>\n",
       "    <tr style=\"text-align: right;\">\n",
       "      <th></th>\n",
       "      <th>Postal Code</th>\n",
       "      <th>Latitude</th>\n",
       "      <th>Longitude</th>\n",
       "    </tr>\n",
       "  </thead>\n",
       "  <tbody>\n",
       "    <tr>\n",
       "      <th>0</th>\n",
       "      <td>M1B</td>\n",
       "      <td>43.806686</td>\n",
       "      <td>-79.194353</td>\n",
       "    </tr>\n",
       "    <tr>\n",
       "      <th>1</th>\n",
       "      <td>M1C</td>\n",
       "      <td>43.784535</td>\n",
       "      <td>-79.160497</td>\n",
       "    </tr>\n",
       "    <tr>\n",
       "      <th>2</th>\n",
       "      <td>M1E</td>\n",
       "      <td>43.763573</td>\n",
       "      <td>-79.188711</td>\n",
       "    </tr>\n",
       "    <tr>\n",
       "      <th>3</th>\n",
       "      <td>M1G</td>\n",
       "      <td>43.770992</td>\n",
       "      <td>-79.216917</td>\n",
       "    </tr>\n",
       "    <tr>\n",
       "      <th>4</th>\n",
       "      <td>M1H</td>\n",
       "      <td>43.773136</td>\n",
       "      <td>-79.239476</td>\n",
       "    </tr>\n",
       "    <tr>\n",
       "      <th>...</th>\n",
       "      <td>...</td>\n",
       "      <td>...</td>\n",
       "      <td>...</td>\n",
       "    </tr>\n",
       "    <tr>\n",
       "      <th>98</th>\n",
       "      <td>M9N</td>\n",
       "      <td>43.706876</td>\n",
       "      <td>-79.518188</td>\n",
       "    </tr>\n",
       "    <tr>\n",
       "      <th>99</th>\n",
       "      <td>M9P</td>\n",
       "      <td>43.696319</td>\n",
       "      <td>-79.532242</td>\n",
       "    </tr>\n",
       "    <tr>\n",
       "      <th>100</th>\n",
       "      <td>M9R</td>\n",
       "      <td>43.688905</td>\n",
       "      <td>-79.554724</td>\n",
       "    </tr>\n",
       "    <tr>\n",
       "      <th>101</th>\n",
       "      <td>M9V</td>\n",
       "      <td>43.739416</td>\n",
       "      <td>-79.588437</td>\n",
       "    </tr>\n",
       "    <tr>\n",
       "      <th>102</th>\n",
       "      <td>M9W</td>\n",
       "      <td>43.706748</td>\n",
       "      <td>-79.594054</td>\n",
       "    </tr>\n",
       "  </tbody>\n",
       "</table>\n",
       "<p>103 rows × 3 columns</p>\n",
       "</div>"
      ],
      "text/plain": [
       "    Postal Code   Latitude  Longitude\n",
       "0           M1B  43.806686 -79.194353\n",
       "1           M1C  43.784535 -79.160497\n",
       "2           M1E  43.763573 -79.188711\n",
       "3           M1G  43.770992 -79.216917\n",
       "4           M1H  43.773136 -79.239476\n",
       "..          ...        ...        ...\n",
       "98          M9N  43.706876 -79.518188\n",
       "99          M9P  43.696319 -79.532242\n",
       "100         M9R  43.688905 -79.554724\n",
       "101         M9V  43.739416 -79.588437\n",
       "102         M9W  43.706748 -79.594054\n",
       "\n",
       "[103 rows x 3 columns]"
      ]
     },
     "execution_count": 17,
     "metadata": {},
     "output_type": "execute_result"
    }
   ],
   "source": [
    "coordinates = pd.read_csv(\"geospatial_data.csv\")\n",
    "coordinates.sort_values('Postal Code')\n",
    "coordinates"
   ]
  },
  {
   "cell_type": "markdown",
   "metadata": {},
   "source": [
    "#### Merge postal code data and geospatial data"
   ]
  },
  {
   "cell_type": "code",
   "execution_count": 18,
   "metadata": {
    "scrolled": true
   },
   "outputs": [],
   "source": [
    "toronto_hoods = pd.merge(toronto_hoods, coordinates, left_on='PostalCode', right_on='Postal Code', how='left').drop('Postal Code', axis=1)"
   ]
  },
  {
   "cell_type": "markdown",
   "metadata": {},
   "source": [
    "#### Inspection of the merged data set"
   ]
  },
  {
   "cell_type": "code",
   "execution_count": 19,
   "metadata": {},
   "outputs": [
    {
     "data": {
      "text/html": [
       "<div>\n",
       "<style scoped>\n",
       "    .dataframe tbody tr th:only-of-type {\n",
       "        vertical-align: middle;\n",
       "    }\n",
       "\n",
       "    .dataframe tbody tr th {\n",
       "        vertical-align: top;\n",
       "    }\n",
       "\n",
       "    .dataframe thead th {\n",
       "        text-align: right;\n",
       "    }\n",
       "</style>\n",
       "<table border=\"1\" class=\"dataframe\">\n",
       "  <thead>\n",
       "    <tr style=\"text-align: right;\">\n",
       "      <th></th>\n",
       "      <th>PostalCode</th>\n",
       "      <th>Borough</th>\n",
       "      <th>Neighborhood</th>\n",
       "      <th>Latitude</th>\n",
       "      <th>Longitude</th>\n",
       "    </tr>\n",
       "  </thead>\n",
       "  <tbody>\n",
       "    <tr>\n",
       "      <th>0</th>\n",
       "      <td>M3A</td>\n",
       "      <td>North York</td>\n",
       "      <td>Parkwoods</td>\n",
       "      <td>43.753259</td>\n",
       "      <td>-79.329656</td>\n",
       "    </tr>\n",
       "    <tr>\n",
       "      <th>1</th>\n",
       "      <td>M4A</td>\n",
       "      <td>North York</td>\n",
       "      <td>Victoria Village</td>\n",
       "      <td>43.725882</td>\n",
       "      <td>-79.315572</td>\n",
       "    </tr>\n",
       "    <tr>\n",
       "      <th>2</th>\n",
       "      <td>M5A</td>\n",
       "      <td>Downtown Toronto</td>\n",
       "      <td>Regent Park, Harbourfront</td>\n",
       "      <td>43.654260</td>\n",
       "      <td>-79.360636</td>\n",
       "    </tr>\n",
       "    <tr>\n",
       "      <th>3</th>\n",
       "      <td>M6A</td>\n",
       "      <td>North York</td>\n",
       "      <td>Lawrence Manor, Lawrence Heights</td>\n",
       "      <td>43.718518</td>\n",
       "      <td>-79.464763</td>\n",
       "    </tr>\n",
       "    <tr>\n",
       "      <th>4</th>\n",
       "      <td>M7A</td>\n",
       "      <td>Downtown Toronto</td>\n",
       "      <td>Queen's Park, Ontario Provincial Government</td>\n",
       "      <td>43.662301</td>\n",
       "      <td>-79.389494</td>\n",
       "    </tr>\n",
       "  </tbody>\n",
       "</table>\n",
       "</div>"
      ],
      "text/plain": [
       "  PostalCode           Borough                                 Neighborhood  \\\n",
       "0        M3A        North York                                    Parkwoods   \n",
       "1        M4A        North York                             Victoria Village   \n",
       "2        M5A  Downtown Toronto                    Regent Park, Harbourfront   \n",
       "3        M6A        North York             Lawrence Manor, Lawrence Heights   \n",
       "4        M7A  Downtown Toronto  Queen's Park, Ontario Provincial Government   \n",
       "\n",
       "    Latitude  Longitude  \n",
       "0  43.753259 -79.329656  \n",
       "1  43.725882 -79.315572  \n",
       "2  43.654260 -79.360636  \n",
       "3  43.718518 -79.464763  \n",
       "4  43.662301 -79.389494  "
      ]
     },
     "execution_count": 19,
     "metadata": {},
     "output_type": "execute_result"
    }
   ],
   "source": [
    "toronto_hoods.head()"
   ]
  },
  {
   "cell_type": "code",
   "execution_count": 20,
   "metadata": {},
   "outputs": [
    {
     "data": {
      "text/plain": [
       "(103, 5)"
      ]
     },
     "execution_count": 20,
     "metadata": {},
     "output_type": "execute_result"
    }
   ],
   "source": [
    "toronto_hoods.shape"
   ]
  },
  {
   "cell_type": "markdown",
   "metadata": {},
   "source": [
    "## Part 3 of the final submission"
   ]
  },
  {
   "cell_type": "markdown",
   "metadata": {},
   "source": [
    "### *In this part of the submission I first use the foursquare API to explore venues within walking distance (500 m) of the different neighborhoods. Subsequently, I cluster neighborhoods based on their venue profile*"
   ]
  },
  {
   "cell_type": "markdown",
   "metadata": {},
   "source": [
    "#### Specify foursquare credentials"
   ]
  },
  {
   "cell_type": "code",
   "execution_count": 21,
   "metadata": {},
   "outputs": [],
   "source": [
    "CLIENT_ID = ''\n",
    "CLIENT_SECRET = ''\n",
    "VERSION = 20201015"
   ]
  },
  {
   "cell_type": "markdown",
   "metadata": {},
   "source": [
    "#### Collect information on venues within walking distance (500 m) of the different neighborhoods"
   ]
  },
  {
   "cell_type": "code",
   "execution_count": 22,
   "metadata": {},
   "outputs": [],
   "source": [
    "def getNearbyVenues(names, latitudes, longitudes, LIMIT=100, radius=500):\n",
    "    \n",
    "    venues_list=[]\n",
    "    i=0\n",
    "    for name, lat, lng in zip(names, latitudes, longitudes):\n",
    "        i=i+1\n",
    "        print(i)\n",
    "        print(name)\n",
    "            \n",
    "        # create the API request URL\n",
    "        url = 'https://api.foursquare.com/v2/venues/explore?&client_id={}&client_secret={}&v={}&ll={},{}&radius={}&limit={}'.format(\n",
    "            CLIENT_ID, \n",
    "            CLIENT_SECRET, \n",
    "            VERSION, \n",
    "            lat, \n",
    "            lng, \n",
    "            radius, \n",
    "            LIMIT)\n",
    "            \n",
    "        # make the GET request\n",
    "        results = requests.get(url).json()[\"response\"]['groups'][0]['items']\n",
    "        \n",
    "        # return only relevant information for each nearby venue\n",
    "        venues_list.append([(\n",
    "            name, \n",
    "            lat, \n",
    "            lng, \n",
    "            v['venue']['name'], \n",
    "            v['venue']['location']['lat'], \n",
    "            v['venue']['location']['lng'],  \n",
    "            v['venue']['categories'][0]['name']) for v in results])\n",
    "\n",
    "    nearby_venues = pd.DataFrame([item for venue_list in venues_list for item in venue_list])\n",
    "    nearby_venues.columns = ['Neighborhood', \n",
    "                  'Neighborhood Latitude', \n",
    "                  'Neighborhood Longitude', \n",
    "                  'Venue', \n",
    "                  'Venue Latitude', \n",
    "                  'Venue Longitude', \n",
    "                  'Venue Category']\n",
    "    \n",
    "    return(nearby_venues)"
   ]
  },
  {
   "cell_type": "code",
   "execution_count": 23,
   "metadata": {},
   "outputs": [
    {
     "name": "stdout",
     "output_type": "stream",
     "text": [
      "1\n",
      "Parkwoods\n",
      "2\n",
      "Victoria Village\n",
      "3\n",
      "Regent Park, Harbourfront\n",
      "4\n",
      "Lawrence Manor, Lawrence Heights\n",
      "5\n",
      "Queen's Park, Ontario Provincial Government\n",
      "6\n",
      "Islington Avenue, Humber Valley Village\n",
      "7\n",
      "Malvern, Rouge\n",
      "8\n",
      "Don Mills\n",
      "9\n",
      "Parkview Hill, Woodbine Gardens\n",
      "10\n",
      "Garden District, Ryerson\n",
      "11\n",
      "Glencairn\n",
      "12\n",
      "West Deane Park, Princess Gardens, Martin Grove, Islington, Cloverdale\n",
      "13\n",
      "Rouge Hill, Port Union, Highland Creek\n",
      "14\n",
      "Don Mills1\n",
      "15\n",
      "Woodbine Heights\n",
      "16\n",
      "St. James Town\n",
      "17\n",
      "Humewood-Cedarvale\n",
      "18\n",
      "Eringate, Bloordale Gardens, Old Burnhamthorpe, Markland Wood\n",
      "19\n",
      "Guildwood, Morningside, West Hill\n",
      "20\n",
      "The Beaches\n",
      "21\n",
      "Berczy Park\n",
      "22\n",
      "Caledonia-Fairbanks\n",
      "23\n",
      "Woburn\n",
      "24\n",
      "Leaside\n",
      "25\n",
      "Central Bay Street\n",
      "26\n",
      "Christie\n",
      "27\n",
      "Cedarbrae\n",
      "28\n",
      "Hillcrest Village\n",
      "29\n",
      "Bathurst Manor, Wilson Heights, Downsview North\n",
      "30\n",
      "Thorncliffe Park\n",
      "31\n",
      "Richmond, Adelaide, King\n",
      "32\n",
      "Dufferin, Dovercourt Village\n",
      "33\n",
      "Scarborough Village\n",
      "34\n",
      "Fairview, Henry Farm, Oriole\n",
      "35\n",
      "Northwood Park, York University\n",
      "36\n",
      "East Toronto, Broadview North (Old East York)\n",
      "37\n",
      "Harbourfront East, Union Station, Toronto Islands\n",
      "38\n",
      "Little Portugal, Trinity\n",
      "39\n",
      "Kennedy Park, Ionview, East Birchmount Park\n",
      "40\n",
      "Bayview Village\n",
      "41\n",
      "Downsview\n",
      "42\n",
      "The Danforth West, Riverdale\n",
      "43\n",
      "Toronto Dominion Centre, Design Exchange\n",
      "44\n",
      "Brockton, Parkdale Village, Exhibition Place\n",
      "45\n",
      "Golden Mile, Clairlea, Oakridge\n",
      "46\n",
      "York Mills, Silver Hills\n",
      "47\n",
      "Downsview1\n",
      "48\n",
      "India Bazaar, The Beaches West\n",
      "49\n",
      "Commerce Court, Victoria Hotel\n",
      "50\n",
      "North Park, Maple Leaf Park, Upwood Park\n",
      "51\n",
      "Humber Summit\n",
      "52\n",
      "Cliffside, Cliffcrest, Scarborough Village West\n",
      "53\n",
      "Willowdale, Newtonbrook\n",
      "54\n",
      "Downsview2\n",
      "55\n",
      "Studio District\n",
      "56\n",
      "Bedford Park, Lawrence Manor East\n",
      "57\n",
      "Del Ray, Mount Dennis, Keelsdale and Silverthorn\n",
      "58\n",
      "Humberlea, Emery\n",
      "59\n",
      "Birch Cliff, Cliffside West\n",
      "60\n",
      "Willowdale, Willowdale East\n",
      "61\n",
      "Downsview3\n",
      "62\n",
      "Lawrence Park\n",
      "63\n",
      "Roselawn\n",
      "64\n",
      "Runnymede, The Junction North\n",
      "65\n",
      "Weston\n",
      "66\n",
      "Dorset Park, Wexford Heights, Scarborough Town Centre\n",
      "67\n",
      "York Mills West\n",
      "68\n",
      "Davisville North\n",
      "69\n",
      "Forest Hill North & West, Forest Hill Road Park\n",
      "70\n",
      "High Park, The Junction South\n",
      "71\n",
      "Westmount\n",
      "72\n",
      "Wexford, Maryvale\n",
      "73\n",
      "Willowdale, Willowdale West\n",
      "74\n",
      "North Toronto West, Lawrence Park\n",
      "75\n",
      "The Annex, North Midtown, Yorkville\n",
      "76\n",
      "Parkdale, Roncesvalles\n",
      "77\n",
      "Canada Post Gateway Processing Centre\n",
      "78\n",
      "Kingsview Village, St. Phillips, Martin Grove Gardens, Richview Gardens\n",
      "79\n",
      "Agincourt\n",
      "80\n",
      "Davisville\n",
      "81\n",
      "University of Toronto, Harbord\n",
      "82\n",
      "Runnymede, Swansea\n",
      "83\n",
      "Clarks Corners, Tam O'Shanter, Sullivan\n",
      "84\n",
      "Moore Park, Summerhill East\n",
      "85\n",
      "Kensington Market, Chinatown, Grange Park\n",
      "86\n",
      "Milliken, Agincourt North, Steeles East, L'Amoreaux East\n",
      "87\n",
      "Summerhill West, Rathnelly, South Hill, Forest Hill SE, Deer Park\n",
      "88\n",
      "CN Tower, King and Spadina, Railway Lands, Harbourfront West, Bathurst Quay, South Niagara, Island airport\n",
      "89\n",
      "New Toronto, Mimico South, Humber Bay Shores\n",
      "90\n",
      "South Steeles, Silverstone, Humbergate, Jamestown, Mount Olive, Beaumond Heights, Thistletown, Albion Gardens\n",
      "91\n",
      "Steeles West, L'Amoreaux West\n",
      "92\n",
      "Rosedale\n",
      "93\n",
      "Stn A PO Boxes\n",
      "94\n",
      "Alderwood, Long Branch\n",
      "95\n",
      "Northwest, West Humber - Clairville\n",
      "96\n",
      "Upper Rouge\n",
      "97\n",
      "St. James Town, Cabbagetown\n",
      "98\n",
      "First Canadian Place, Underground city\n",
      "99\n",
      "The Kingsway, Montgomery Road, Old Mill North\n",
      "100\n",
      "Church and Wellesley\n",
      "101\n",
      "Business reply mail Processing Centre, South Central Letter Processing Plant Toronto\n",
      "102\n",
      "Old Mill South, King's Mill Park, Sunnylea, Humber Bay, Mimico NE, The Queensway East, Royal York South East, Kingsway Park South East\n",
      "103\n",
      "Mimico NW, The Queensway West, South of Bloor, Kingsway Park South West, Royal York South West\n"
     ]
    }
   ],
   "source": [
    "toronto_venues = getNearbyVenues(names=toronto_hoods['Neighborhood'],\n",
    "                                latitudes=toronto_hoods['Latitude'],\n",
    "                                longitudes=toronto_hoods['Longitude']\n",
    "                                )"
   ]
  },
  {
   "cell_type": "code",
   "execution_count": 24,
   "metadata": {},
   "outputs": [
    {
     "data": {
      "text/html": [
       "<div>\n",
       "<style scoped>\n",
       "    .dataframe tbody tr th:only-of-type {\n",
       "        vertical-align: middle;\n",
       "    }\n",
       "\n",
       "    .dataframe tbody tr th {\n",
       "        vertical-align: top;\n",
       "    }\n",
       "\n",
       "    .dataframe thead th {\n",
       "        text-align: right;\n",
       "    }\n",
       "</style>\n",
       "<table border=\"1\" class=\"dataframe\">\n",
       "  <thead>\n",
       "    <tr style=\"text-align: right;\">\n",
       "      <th></th>\n",
       "      <th>Neighborhood</th>\n",
       "      <th>Neighborhood Latitude</th>\n",
       "      <th>Neighborhood Longitude</th>\n",
       "      <th>Venue</th>\n",
       "      <th>Venue Latitude</th>\n",
       "      <th>Venue Longitude</th>\n",
       "      <th>Venue Category</th>\n",
       "    </tr>\n",
       "  </thead>\n",
       "  <tbody>\n",
       "    <tr>\n",
       "      <th>0</th>\n",
       "      <td>Parkwoods</td>\n",
       "      <td>43.753259</td>\n",
       "      <td>-79.329656</td>\n",
       "      <td>Brookbanks Park</td>\n",
       "      <td>43.751976</td>\n",
       "      <td>-79.332140</td>\n",
       "      <td>Park</td>\n",
       "    </tr>\n",
       "    <tr>\n",
       "      <th>1</th>\n",
       "      <td>Parkwoods</td>\n",
       "      <td>43.753259</td>\n",
       "      <td>-79.329656</td>\n",
       "      <td>Variety Store</td>\n",
       "      <td>43.751974</td>\n",
       "      <td>-79.333114</td>\n",
       "      <td>Food &amp; Drink Shop</td>\n",
       "    </tr>\n",
       "    <tr>\n",
       "      <th>2</th>\n",
       "      <td>Victoria Village</td>\n",
       "      <td>43.725882</td>\n",
       "      <td>-79.315572</td>\n",
       "      <td>Victoria Village Arena</td>\n",
       "      <td>43.723481</td>\n",
       "      <td>-79.315635</td>\n",
       "      <td>Hockey Arena</td>\n",
       "    </tr>\n",
       "    <tr>\n",
       "      <th>3</th>\n",
       "      <td>Victoria Village</td>\n",
       "      <td>43.725882</td>\n",
       "      <td>-79.315572</td>\n",
       "      <td>Portugril</td>\n",
       "      <td>43.725819</td>\n",
       "      <td>-79.312785</td>\n",
       "      <td>Portuguese Restaurant</td>\n",
       "    </tr>\n",
       "    <tr>\n",
       "      <th>4</th>\n",
       "      <td>Victoria Village</td>\n",
       "      <td>43.725882</td>\n",
       "      <td>-79.315572</td>\n",
       "      <td>Tim Hortons</td>\n",
       "      <td>43.725517</td>\n",
       "      <td>-79.313103</td>\n",
       "      <td>Coffee Shop</td>\n",
       "    </tr>\n",
       "  </tbody>\n",
       "</table>\n",
       "</div>"
      ],
      "text/plain": [
       "       Neighborhood  Neighborhood Latitude  Neighborhood Longitude  \\\n",
       "0         Parkwoods              43.753259              -79.329656   \n",
       "1         Parkwoods              43.753259              -79.329656   \n",
       "2  Victoria Village              43.725882              -79.315572   \n",
       "3  Victoria Village              43.725882              -79.315572   \n",
       "4  Victoria Village              43.725882              -79.315572   \n",
       "\n",
       "                    Venue  Venue Latitude  Venue Longitude  \\\n",
       "0         Brookbanks Park       43.751976       -79.332140   \n",
       "1           Variety Store       43.751974       -79.333114   \n",
       "2  Victoria Village Arena       43.723481       -79.315635   \n",
       "3               Portugril       43.725819       -79.312785   \n",
       "4             Tim Hortons       43.725517       -79.313103   \n",
       "\n",
       "          Venue Category  \n",
       "0                   Park  \n",
       "1      Food & Drink Shop  \n",
       "2           Hockey Arena  \n",
       "3  Portuguese Restaurant  \n",
       "4            Coffee Shop  "
      ]
     },
     "execution_count": 24,
     "metadata": {},
     "output_type": "execute_result"
    }
   ],
   "source": [
    "toronto_venues.head()"
   ]
  },
  {
   "cell_type": "code",
   "execution_count": 25,
   "metadata": {},
   "outputs": [
    {
     "name": "stdout",
     "output_type": "stream",
     "text": [
      "The data frame 'toronto_venues' contains 2136 venues.\n",
      "The data covers 273 different venue categories and contains information for 100 different neighborhoods\n"
     ]
    }
   ],
   "source": [
    "print(\"The data frame 'toronto_venues' contains\",toronto_venues.shape[0],\"venues.\")\n",
    "print(\"The data covers\",len(toronto_venues['Venue Category'].unique()),\"different venue categories and contains information for\",len(toronto_venues['Neighborhood'].unique()),\"different neighborhoods\") "
   ]
  },
  {
   "cell_type": "markdown",
   "metadata": {},
   "source": [
    "#### During one-hot encoding (next step) it appears that there are venues with the category label \"Neighborhood\". For clarification, the venue category \"Neighborhood\" is relabeled as \"Neighborhood_vencat\""
   ]
  },
  {
   "cell_type": "code",
   "execution_count": 26,
   "metadata": {},
   "outputs": [
    {
     "data": {
      "text/html": [
       "<div>\n",
       "<style scoped>\n",
       "    .dataframe tbody tr th:only-of-type {\n",
       "        vertical-align: middle;\n",
       "    }\n",
       "\n",
       "    .dataframe tbody tr th {\n",
       "        vertical-align: top;\n",
       "    }\n",
       "\n",
       "    .dataframe thead th {\n",
       "        text-align: right;\n",
       "    }\n",
       "</style>\n",
       "<table border=\"1\" class=\"dataframe\">\n",
       "  <thead>\n",
       "    <tr style=\"text-align: right;\">\n",
       "      <th></th>\n",
       "      <th>Neighborhood</th>\n",
       "      <th>Neighborhood Latitude</th>\n",
       "      <th>Neighborhood Longitude</th>\n",
       "      <th>Venue</th>\n",
       "      <th>Venue Latitude</th>\n",
       "      <th>Venue Longitude</th>\n",
       "      <th>Venue Category</th>\n",
       "    </tr>\n",
       "  </thead>\n",
       "  <tbody>\n",
       "    <tr>\n",
       "      <th>354</th>\n",
       "      <td>The Beaches</td>\n",
       "      <td>43.676357</td>\n",
       "      <td>-79.293031</td>\n",
       "      <td>Upper Beaches</td>\n",
       "      <td>43.680563</td>\n",
       "      <td>-79.292869</td>\n",
       "      <td>Neighborhood</td>\n",
       "    </tr>\n",
       "    <tr>\n",
       "      <th>604</th>\n",
       "      <td>Richmond, Adelaide, King</td>\n",
       "      <td>43.650571</td>\n",
       "      <td>-79.384568</td>\n",
       "      <td>Downtown Toronto</td>\n",
       "      <td>43.653232</td>\n",
       "      <td>-79.385296</td>\n",
       "      <td>Neighborhood</td>\n",
       "    </tr>\n",
       "    <tr>\n",
       "      <th>789</th>\n",
       "      <td>Harbourfront East, Union Station, Toronto Islands</td>\n",
       "      <td>43.640816</td>\n",
       "      <td>-79.381752</td>\n",
       "      <td>Harbourfront</td>\n",
       "      <td>43.639526</td>\n",
       "      <td>-79.380688</td>\n",
       "      <td>Neighborhood</td>\n",
       "    </tr>\n",
       "    <tr>\n",
       "      <th>1267</th>\n",
       "      <td>Studio District</td>\n",
       "      <td>43.659526</td>\n",
       "      <td>-79.340923</td>\n",
       "      <td>Leslieville</td>\n",
       "      <td>43.662070</td>\n",
       "      <td>-79.337856</td>\n",
       "      <td>Neighborhood</td>\n",
       "    </tr>\n",
       "  </tbody>\n",
       "</table>\n",
       "</div>"
      ],
      "text/plain": [
       "                                           Neighborhood  \\\n",
       "354                                         The Beaches   \n",
       "604                            Richmond, Adelaide, King   \n",
       "789   Harbourfront East, Union Station, Toronto Islands   \n",
       "1267                                    Studio District   \n",
       "\n",
       "      Neighborhood Latitude  Neighborhood Longitude             Venue  \\\n",
       "354               43.676357              -79.293031     Upper Beaches   \n",
       "604               43.650571              -79.384568  Downtown Toronto   \n",
       "789               43.640816              -79.381752      Harbourfront   \n",
       "1267              43.659526              -79.340923       Leslieville   \n",
       "\n",
       "      Venue Latitude  Venue Longitude Venue Category  \n",
       "354        43.680563       -79.292869   Neighborhood  \n",
       "604        43.653232       -79.385296   Neighborhood  \n",
       "789        43.639526       -79.380688   Neighborhood  \n",
       "1267       43.662070       -79.337856   Neighborhood  "
      ]
     },
     "execution_count": 26,
     "metadata": {},
     "output_type": "execute_result"
    }
   ],
   "source": [
    "check = toronto_venues[toronto_venues[\"Venue Category\"] == \"Neighborhood\"]\n",
    "check"
   ]
  },
  {
   "cell_type": "code",
   "execution_count": 27,
   "metadata": {},
   "outputs": [],
   "source": [
    "toronto_venues[\"Venue Category\"].replace(\"Neighborhood\", \"Neighborhood_vencat\", inplace = True)"
   ]
  },
  {
   "cell_type": "markdown",
   "metadata": {},
   "source": [
    "#### One-hot encoding in preparation for the clustering procedure"
   ]
  },
  {
   "cell_type": "code",
   "execution_count": 28,
   "metadata": {},
   "outputs": [],
   "source": [
    "# generate one-hot encoded dataset on venue categories\n",
    "toronto_onehot = pd.get_dummies(toronto_venues[['Venue Category']], prefix=\"\", prefix_sep=\"\")\n",
    "\n",
    "# add the variable \"Neighborhood\"\n",
    "toronto_onehot['Neighborhood'] = toronto_venues['Neighborhood']\n",
    "\n",
    "# change the order of columns\n",
    "fixed_columns = [toronto_onehot.columns[-1]] + list(toronto_onehot.columns[:-1])\n",
    "toronto_onehot = toronto_onehot[fixed_columns]"
   ]
  },
  {
   "cell_type": "code",
   "execution_count": 29,
   "metadata": {},
   "outputs": [
    {
     "data": {
      "text/html": [
       "<div>\n",
       "<style scoped>\n",
       "    .dataframe tbody tr th:only-of-type {\n",
       "        vertical-align: middle;\n",
       "    }\n",
       "\n",
       "    .dataframe tbody tr th {\n",
       "        vertical-align: top;\n",
       "    }\n",
       "\n",
       "    .dataframe thead th {\n",
       "        text-align: right;\n",
       "    }\n",
       "</style>\n",
       "<table border=\"1\" class=\"dataframe\">\n",
       "  <thead>\n",
       "    <tr style=\"text-align: right;\">\n",
       "      <th></th>\n",
       "      <th>Neighborhood</th>\n",
       "      <th>Accessories Store</th>\n",
       "      <th>Afghan Restaurant</th>\n",
       "      <th>Airport</th>\n",
       "      <th>Airport Food Court</th>\n",
       "      <th>Airport Gate</th>\n",
       "      <th>Airport Lounge</th>\n",
       "      <th>Airport Service</th>\n",
       "      <th>Airport Terminal</th>\n",
       "      <th>American Restaurant</th>\n",
       "      <th>...</th>\n",
       "      <th>Train Station</th>\n",
       "      <th>Turkish Restaurant</th>\n",
       "      <th>Vegetarian / Vegan Restaurant</th>\n",
       "      <th>Video Game Store</th>\n",
       "      <th>Vietnamese Restaurant</th>\n",
       "      <th>Warehouse Store</th>\n",
       "      <th>Wine Bar</th>\n",
       "      <th>Wings Joint</th>\n",
       "      <th>Women's Store</th>\n",
       "      <th>Yoga Studio</th>\n",
       "    </tr>\n",
       "  </thead>\n",
       "  <tbody>\n",
       "    <tr>\n",
       "      <th>0</th>\n",
       "      <td>Parkwoods</td>\n",
       "      <td>0</td>\n",
       "      <td>0</td>\n",
       "      <td>0</td>\n",
       "      <td>0</td>\n",
       "      <td>0</td>\n",
       "      <td>0</td>\n",
       "      <td>0</td>\n",
       "      <td>0</td>\n",
       "      <td>0</td>\n",
       "      <td>...</td>\n",
       "      <td>0</td>\n",
       "      <td>0</td>\n",
       "      <td>0</td>\n",
       "      <td>0</td>\n",
       "      <td>0</td>\n",
       "      <td>0</td>\n",
       "      <td>0</td>\n",
       "      <td>0</td>\n",
       "      <td>0</td>\n",
       "      <td>0</td>\n",
       "    </tr>\n",
       "    <tr>\n",
       "      <th>1</th>\n",
       "      <td>Parkwoods</td>\n",
       "      <td>0</td>\n",
       "      <td>0</td>\n",
       "      <td>0</td>\n",
       "      <td>0</td>\n",
       "      <td>0</td>\n",
       "      <td>0</td>\n",
       "      <td>0</td>\n",
       "      <td>0</td>\n",
       "      <td>0</td>\n",
       "      <td>...</td>\n",
       "      <td>0</td>\n",
       "      <td>0</td>\n",
       "      <td>0</td>\n",
       "      <td>0</td>\n",
       "      <td>0</td>\n",
       "      <td>0</td>\n",
       "      <td>0</td>\n",
       "      <td>0</td>\n",
       "      <td>0</td>\n",
       "      <td>0</td>\n",
       "    </tr>\n",
       "    <tr>\n",
       "      <th>2</th>\n",
       "      <td>Victoria Village</td>\n",
       "      <td>0</td>\n",
       "      <td>0</td>\n",
       "      <td>0</td>\n",
       "      <td>0</td>\n",
       "      <td>0</td>\n",
       "      <td>0</td>\n",
       "      <td>0</td>\n",
       "      <td>0</td>\n",
       "      <td>0</td>\n",
       "      <td>...</td>\n",
       "      <td>0</td>\n",
       "      <td>0</td>\n",
       "      <td>0</td>\n",
       "      <td>0</td>\n",
       "      <td>0</td>\n",
       "      <td>0</td>\n",
       "      <td>0</td>\n",
       "      <td>0</td>\n",
       "      <td>0</td>\n",
       "      <td>0</td>\n",
       "    </tr>\n",
       "    <tr>\n",
       "      <th>3</th>\n",
       "      <td>Victoria Village</td>\n",
       "      <td>0</td>\n",
       "      <td>0</td>\n",
       "      <td>0</td>\n",
       "      <td>0</td>\n",
       "      <td>0</td>\n",
       "      <td>0</td>\n",
       "      <td>0</td>\n",
       "      <td>0</td>\n",
       "      <td>0</td>\n",
       "      <td>...</td>\n",
       "      <td>0</td>\n",
       "      <td>0</td>\n",
       "      <td>0</td>\n",
       "      <td>0</td>\n",
       "      <td>0</td>\n",
       "      <td>0</td>\n",
       "      <td>0</td>\n",
       "      <td>0</td>\n",
       "      <td>0</td>\n",
       "      <td>0</td>\n",
       "    </tr>\n",
       "    <tr>\n",
       "      <th>4</th>\n",
       "      <td>Victoria Village</td>\n",
       "      <td>0</td>\n",
       "      <td>0</td>\n",
       "      <td>0</td>\n",
       "      <td>0</td>\n",
       "      <td>0</td>\n",
       "      <td>0</td>\n",
       "      <td>0</td>\n",
       "      <td>0</td>\n",
       "      <td>0</td>\n",
       "      <td>...</td>\n",
       "      <td>0</td>\n",
       "      <td>0</td>\n",
       "      <td>0</td>\n",
       "      <td>0</td>\n",
       "      <td>0</td>\n",
       "      <td>0</td>\n",
       "      <td>0</td>\n",
       "      <td>0</td>\n",
       "      <td>0</td>\n",
       "      <td>0</td>\n",
       "    </tr>\n",
       "  </tbody>\n",
       "</table>\n",
       "<p>5 rows × 274 columns</p>\n",
       "</div>"
      ],
      "text/plain": [
       "       Neighborhood  Accessories Store  Afghan Restaurant  Airport  \\\n",
       "0         Parkwoods                  0                  0        0   \n",
       "1         Parkwoods                  0                  0        0   \n",
       "2  Victoria Village                  0                  0        0   \n",
       "3  Victoria Village                  0                  0        0   \n",
       "4  Victoria Village                  0                  0        0   \n",
       "\n",
       "   Airport Food Court  Airport Gate  Airport Lounge  Airport Service  \\\n",
       "0                   0             0               0                0   \n",
       "1                   0             0               0                0   \n",
       "2                   0             0               0                0   \n",
       "3                   0             0               0                0   \n",
       "4                   0             0               0                0   \n",
       "\n",
       "   Airport Terminal  American Restaurant  ...  Train Station  \\\n",
       "0                 0                    0  ...              0   \n",
       "1                 0                    0  ...              0   \n",
       "2                 0                    0  ...              0   \n",
       "3                 0                    0  ...              0   \n",
       "4                 0                    0  ...              0   \n",
       "\n",
       "   Turkish Restaurant  Vegetarian / Vegan Restaurant  Video Game Store  \\\n",
       "0                   0                              0                 0   \n",
       "1                   0                              0                 0   \n",
       "2                   0                              0                 0   \n",
       "3                   0                              0                 0   \n",
       "4                   0                              0                 0   \n",
       "\n",
       "   Vietnamese Restaurant  Warehouse Store  Wine Bar  Wings Joint  \\\n",
       "0                      0                0         0            0   \n",
       "1                      0                0         0            0   \n",
       "2                      0                0         0            0   \n",
       "3                      0                0         0            0   \n",
       "4                      0                0         0            0   \n",
       "\n",
       "   Women's Store  Yoga Studio  \n",
       "0              0            0  \n",
       "1              0            0  \n",
       "2              0            0  \n",
       "3              0            0  \n",
       "4              0            0  \n",
       "\n",
       "[5 rows x 274 columns]"
      ]
     },
     "execution_count": 29,
     "metadata": {},
     "output_type": "execute_result"
    }
   ],
   "source": [
    "toronto_onehot.head()"
   ]
  },
  {
   "cell_type": "code",
   "execution_count": 30,
   "metadata": {},
   "outputs": [
    {
     "name": "stdout",
     "output_type": "stream",
     "text": [
      "The data frame 'toronto_onehot' contains one-hot encoded data on 2136 venues.\n",
      "The data covers 273 different venue categories and contains information for 100 different neighborhoods\n"
     ]
    }
   ],
   "source": [
    "print(\"The data frame 'toronto_onehot' contains one-hot encoded data on\",toronto_onehot.shape[0],\"venues.\")\n",
    "print(\"The data covers\",toronto_onehot.shape[1]-1,\"different venue categories and contains information for\",len(toronto_onehot['Neighborhood'].unique()),\"different neighborhoods\") "
   ]
  },
  {
   "cell_type": "markdown",
   "metadata": {},
   "source": [
    "#### Collapse one-hot encoded data on the neighborhood level"
   ]
  },
  {
   "cell_type": "code",
   "execution_count": 31,
   "metadata": {},
   "outputs": [],
   "source": [
    "toronto_grouped = toronto_onehot.groupby('Neighborhood').mean().reset_index()"
   ]
  },
  {
   "cell_type": "code",
   "execution_count": 32,
   "metadata": {},
   "outputs": [
    {
     "data": {
      "text/html": [
       "<div>\n",
       "<style scoped>\n",
       "    .dataframe tbody tr th:only-of-type {\n",
       "        vertical-align: middle;\n",
       "    }\n",
       "\n",
       "    .dataframe tbody tr th {\n",
       "        vertical-align: top;\n",
       "    }\n",
       "\n",
       "    .dataframe thead th {\n",
       "        text-align: right;\n",
       "    }\n",
       "</style>\n",
       "<table border=\"1\" class=\"dataframe\">\n",
       "  <thead>\n",
       "    <tr style=\"text-align: right;\">\n",
       "      <th></th>\n",
       "      <th>Neighborhood</th>\n",
       "      <th>Accessories Store</th>\n",
       "      <th>Afghan Restaurant</th>\n",
       "      <th>Airport</th>\n",
       "      <th>Airport Food Court</th>\n",
       "      <th>Airport Gate</th>\n",
       "      <th>Airport Lounge</th>\n",
       "      <th>Airport Service</th>\n",
       "      <th>Airport Terminal</th>\n",
       "      <th>American Restaurant</th>\n",
       "      <th>...</th>\n",
       "      <th>Train Station</th>\n",
       "      <th>Turkish Restaurant</th>\n",
       "      <th>Vegetarian / Vegan Restaurant</th>\n",
       "      <th>Video Game Store</th>\n",
       "      <th>Vietnamese Restaurant</th>\n",
       "      <th>Warehouse Store</th>\n",
       "      <th>Wine Bar</th>\n",
       "      <th>Wings Joint</th>\n",
       "      <th>Women's Store</th>\n",
       "      <th>Yoga Studio</th>\n",
       "    </tr>\n",
       "  </thead>\n",
       "  <tbody>\n",
       "    <tr>\n",
       "      <th>0</th>\n",
       "      <td>Agincourt</td>\n",
       "      <td>0.0</td>\n",
       "      <td>0.0</td>\n",
       "      <td>0.0</td>\n",
       "      <td>0.0</td>\n",
       "      <td>0.0</td>\n",
       "      <td>0.0</td>\n",
       "      <td>0.0</td>\n",
       "      <td>0.0</td>\n",
       "      <td>0.000000</td>\n",
       "      <td>...</td>\n",
       "      <td>0.0</td>\n",
       "      <td>0.0</td>\n",
       "      <td>0.0</td>\n",
       "      <td>0.0</td>\n",
       "      <td>0.0</td>\n",
       "      <td>0.0</td>\n",
       "      <td>0.0</td>\n",
       "      <td>0.0</td>\n",
       "      <td>0.0</td>\n",
       "      <td>0.0</td>\n",
       "    </tr>\n",
       "    <tr>\n",
       "      <th>1</th>\n",
       "      <td>Alderwood, Long Branch</td>\n",
       "      <td>0.0</td>\n",
       "      <td>0.0</td>\n",
       "      <td>0.0</td>\n",
       "      <td>0.0</td>\n",
       "      <td>0.0</td>\n",
       "      <td>0.0</td>\n",
       "      <td>0.0</td>\n",
       "      <td>0.0</td>\n",
       "      <td>0.000000</td>\n",
       "      <td>...</td>\n",
       "      <td>0.0</td>\n",
       "      <td>0.0</td>\n",
       "      <td>0.0</td>\n",
       "      <td>0.0</td>\n",
       "      <td>0.0</td>\n",
       "      <td>0.0</td>\n",
       "      <td>0.0</td>\n",
       "      <td>0.0</td>\n",
       "      <td>0.0</td>\n",
       "      <td>0.0</td>\n",
       "    </tr>\n",
       "    <tr>\n",
       "      <th>2</th>\n",
       "      <td>Bathurst Manor, Wilson Heights, Downsview North</td>\n",
       "      <td>0.0</td>\n",
       "      <td>0.0</td>\n",
       "      <td>0.0</td>\n",
       "      <td>0.0</td>\n",
       "      <td>0.0</td>\n",
       "      <td>0.0</td>\n",
       "      <td>0.0</td>\n",
       "      <td>0.0</td>\n",
       "      <td>0.000000</td>\n",
       "      <td>...</td>\n",
       "      <td>0.0</td>\n",
       "      <td>0.0</td>\n",
       "      <td>0.0</td>\n",
       "      <td>0.0</td>\n",
       "      <td>0.0</td>\n",
       "      <td>0.0</td>\n",
       "      <td>0.0</td>\n",
       "      <td>0.0</td>\n",
       "      <td>0.0</td>\n",
       "      <td>0.0</td>\n",
       "    </tr>\n",
       "    <tr>\n",
       "      <th>3</th>\n",
       "      <td>Bayview Village</td>\n",
       "      <td>0.0</td>\n",
       "      <td>0.0</td>\n",
       "      <td>0.0</td>\n",
       "      <td>0.0</td>\n",
       "      <td>0.0</td>\n",
       "      <td>0.0</td>\n",
       "      <td>0.0</td>\n",
       "      <td>0.0</td>\n",
       "      <td>0.000000</td>\n",
       "      <td>...</td>\n",
       "      <td>0.0</td>\n",
       "      <td>0.0</td>\n",
       "      <td>0.0</td>\n",
       "      <td>0.0</td>\n",
       "      <td>0.0</td>\n",
       "      <td>0.0</td>\n",
       "      <td>0.0</td>\n",
       "      <td>0.0</td>\n",
       "      <td>0.0</td>\n",
       "      <td>0.0</td>\n",
       "    </tr>\n",
       "    <tr>\n",
       "      <th>4</th>\n",
       "      <td>Bedford Park, Lawrence Manor East</td>\n",
       "      <td>0.0</td>\n",
       "      <td>0.0</td>\n",
       "      <td>0.0</td>\n",
       "      <td>0.0</td>\n",
       "      <td>0.0</td>\n",
       "      <td>0.0</td>\n",
       "      <td>0.0</td>\n",
       "      <td>0.0</td>\n",
       "      <td>0.045455</td>\n",
       "      <td>...</td>\n",
       "      <td>0.0</td>\n",
       "      <td>0.0</td>\n",
       "      <td>0.0</td>\n",
       "      <td>0.0</td>\n",
       "      <td>0.0</td>\n",
       "      <td>0.0</td>\n",
       "      <td>0.0</td>\n",
       "      <td>0.0</td>\n",
       "      <td>0.0</td>\n",
       "      <td>0.0</td>\n",
       "    </tr>\n",
       "  </tbody>\n",
       "</table>\n",
       "<p>5 rows × 274 columns</p>\n",
       "</div>"
      ],
      "text/plain": [
       "                                      Neighborhood  Accessories Store  \\\n",
       "0                                        Agincourt                0.0   \n",
       "1                           Alderwood, Long Branch                0.0   \n",
       "2  Bathurst Manor, Wilson Heights, Downsview North                0.0   \n",
       "3                                  Bayview Village                0.0   \n",
       "4                Bedford Park, Lawrence Manor East                0.0   \n",
       "\n",
       "   Afghan Restaurant  Airport  Airport Food Court  Airport Gate  \\\n",
       "0                0.0      0.0                 0.0           0.0   \n",
       "1                0.0      0.0                 0.0           0.0   \n",
       "2                0.0      0.0                 0.0           0.0   \n",
       "3                0.0      0.0                 0.0           0.0   \n",
       "4                0.0      0.0                 0.0           0.0   \n",
       "\n",
       "   Airport Lounge  Airport Service  Airport Terminal  American Restaurant  \\\n",
       "0             0.0              0.0               0.0             0.000000   \n",
       "1             0.0              0.0               0.0             0.000000   \n",
       "2             0.0              0.0               0.0             0.000000   \n",
       "3             0.0              0.0               0.0             0.000000   \n",
       "4             0.0              0.0               0.0             0.045455   \n",
       "\n",
       "   ...  Train Station  Turkish Restaurant  Vegetarian / Vegan Restaurant  \\\n",
       "0  ...            0.0                 0.0                            0.0   \n",
       "1  ...            0.0                 0.0                            0.0   \n",
       "2  ...            0.0                 0.0                            0.0   \n",
       "3  ...            0.0                 0.0                            0.0   \n",
       "4  ...            0.0                 0.0                            0.0   \n",
       "\n",
       "   Video Game Store  Vietnamese Restaurant  Warehouse Store  Wine Bar  \\\n",
       "0               0.0                    0.0              0.0       0.0   \n",
       "1               0.0                    0.0              0.0       0.0   \n",
       "2               0.0                    0.0              0.0       0.0   \n",
       "3               0.0                    0.0              0.0       0.0   \n",
       "4               0.0                    0.0              0.0       0.0   \n",
       "\n",
       "   Wings Joint  Women's Store  Yoga Studio  \n",
       "0          0.0            0.0          0.0  \n",
       "1          0.0            0.0          0.0  \n",
       "2          0.0            0.0          0.0  \n",
       "3          0.0            0.0          0.0  \n",
       "4          0.0            0.0          0.0  \n",
       "\n",
       "[5 rows x 274 columns]"
      ]
     },
     "execution_count": 32,
     "metadata": {},
     "output_type": "execute_result"
    }
   ],
   "source": [
    "toronto_grouped.head()"
   ]
  },
  {
   "cell_type": "code",
   "execution_count": 33,
   "metadata": {},
   "outputs": [
    {
     "name": "stdout",
     "output_type": "stream",
     "text": [
      "The data frame 'toronto_grouped' collapses one-hot encoded data on 100 venues on the neighborhood level.\n",
      "The data covers 273 different venue categories and contains information for 100 different neighborhoods, i.e. rows\n"
     ]
    }
   ],
   "source": [
    "print(\"The data frame 'toronto_grouped' collapses one-hot encoded data on\",toronto_grouped.shape[0],\"venues on the neighborhood level.\")\n",
    "print(\"The data covers\",toronto_grouped.shape[1]-1,\"different venue categories and contains information for\",len(toronto_onehot['Neighborhood'].unique()),\"different neighborhoods, i.e. rows\") "
   ]
  },
  {
   "cell_type": "markdown",
   "metadata": {},
   "source": [
    "#### Summarize the most common venue categories for each neighborhood "
   ]
  },
  {
   "cell_type": "code",
   "execution_count": 34,
   "metadata": {},
   "outputs": [],
   "source": [
    "def return_most_common_venues(row, num_top_venues):\n",
    "    row_categories = row.iloc[1:]\n",
    "    row_categories_sorted = row_categories.sort_values(ascending=False)\n",
    "    \n",
    "    return row_categories_sorted.index.values[0:num_top_venues]"
   ]
  },
  {
   "cell_type": "code",
   "execution_count": 35,
   "metadata": {
    "scrolled": true
   },
   "outputs": [],
   "source": [
    "import numpy as np\n",
    "\n",
    "num_top_venues = 10\n",
    "\n",
    "indicators = ['st', 'nd', 'rd']\n",
    "\n",
    "# create columns according to number of top venues\n",
    "columns = ['Neighborhood']\n",
    "for ind in np.arange(num_top_venues):\n",
    "    try:\n",
    "        columns.append('{}{} Most Common Venue'.format(ind+1, indicators[ind]))\n",
    "    except:\n",
    "        columns.append('{}th Most Common Venue'.format(ind+1))\n",
    "\n",
    "# create a new dataframe\n",
    "neighborhoods_venues_sorted = pd.DataFrame(columns=columns)\n",
    "neighborhoods_venues_sorted['Neighborhood'] = toronto_grouped['Neighborhood']\n",
    "\n",
    "for ind in np.arange(toronto_grouped.shape[0]):\n",
    "    neighborhoods_venues_sorted.iloc[ind, 1:] = return_most_common_venues(toronto_grouped.iloc[ind, :], num_top_venues)"
   ]
  },
  {
   "cell_type": "code",
   "execution_count": 36,
   "metadata": {},
   "outputs": [
    {
     "data": {
      "text/html": [
       "<div>\n",
       "<style scoped>\n",
       "    .dataframe tbody tr th:only-of-type {\n",
       "        vertical-align: middle;\n",
       "    }\n",
       "\n",
       "    .dataframe tbody tr th {\n",
       "        vertical-align: top;\n",
       "    }\n",
       "\n",
       "    .dataframe thead th {\n",
       "        text-align: right;\n",
       "    }\n",
       "</style>\n",
       "<table border=\"1\" class=\"dataframe\">\n",
       "  <thead>\n",
       "    <tr style=\"text-align: right;\">\n",
       "      <th></th>\n",
       "      <th>Neighborhood</th>\n",
       "      <th>1st Most Common Venue</th>\n",
       "      <th>2nd Most Common Venue</th>\n",
       "      <th>3rd Most Common Venue</th>\n",
       "      <th>4th Most Common Venue</th>\n",
       "      <th>5th Most Common Venue</th>\n",
       "      <th>6th Most Common Venue</th>\n",
       "      <th>7th Most Common Venue</th>\n",
       "      <th>8th Most Common Venue</th>\n",
       "      <th>9th Most Common Venue</th>\n",
       "      <th>10th Most Common Venue</th>\n",
       "    </tr>\n",
       "  </thead>\n",
       "  <tbody>\n",
       "    <tr>\n",
       "      <th>0</th>\n",
       "      <td>Agincourt</td>\n",
       "      <td>Clothing Store</td>\n",
       "      <td>Lounge</td>\n",
       "      <td>Breakfast Spot</td>\n",
       "      <td>Skating Rink</td>\n",
       "      <td>Latin American Restaurant</td>\n",
       "      <td>Electronics Store</td>\n",
       "      <td>Doner Restaurant</td>\n",
       "      <td>Donut Shop</td>\n",
       "      <td>Drugstore</td>\n",
       "      <td>Dumpling Restaurant</td>\n",
       "    </tr>\n",
       "    <tr>\n",
       "      <th>1</th>\n",
       "      <td>Alderwood, Long Branch</td>\n",
       "      <td>Pizza Place</td>\n",
       "      <td>Sandwich Place</td>\n",
       "      <td>Coffee Shop</td>\n",
       "      <td>Pub</td>\n",
       "      <td>Pharmacy</td>\n",
       "      <td>Gym</td>\n",
       "      <td>Greek Restaurant</td>\n",
       "      <td>Discount Store</td>\n",
       "      <td>Department Store</td>\n",
       "      <td>Dessert Shop</td>\n",
       "    </tr>\n",
       "    <tr>\n",
       "      <th>2</th>\n",
       "      <td>Bathurst Manor, Wilson Heights, Downsview North</td>\n",
       "      <td>Coffee Shop</td>\n",
       "      <td>Bank</td>\n",
       "      <td>Pharmacy</td>\n",
       "      <td>Ice Cream Shop</td>\n",
       "      <td>Bridal Shop</td>\n",
       "      <td>Shopping Mall</td>\n",
       "      <td>Sandwich Place</td>\n",
       "      <td>Diner</td>\n",
       "      <td>Middle Eastern Restaurant</td>\n",
       "      <td>Restaurant</td>\n",
       "    </tr>\n",
       "    <tr>\n",
       "      <th>3</th>\n",
       "      <td>Bayview Village</td>\n",
       "      <td>Japanese Restaurant</td>\n",
       "      <td>Café</td>\n",
       "      <td>Chinese Restaurant</td>\n",
       "      <td>Bank</td>\n",
       "      <td>Distribution Center</td>\n",
       "      <td>Dog Run</td>\n",
       "      <td>Doner Restaurant</td>\n",
       "      <td>Donut Shop</td>\n",
       "      <td>Drugstore</td>\n",
       "      <td>Yoga Studio</td>\n",
       "    </tr>\n",
       "    <tr>\n",
       "      <th>4</th>\n",
       "      <td>Bedford Park, Lawrence Manor East</td>\n",
       "      <td>Sandwich Place</td>\n",
       "      <td>Italian Restaurant</td>\n",
       "      <td>Coffee Shop</td>\n",
       "      <td>Greek Restaurant</td>\n",
       "      <td>Thai Restaurant</td>\n",
       "      <td>Locksmith</td>\n",
       "      <td>Liquor Store</td>\n",
       "      <td>Comfort Food Restaurant</td>\n",
       "      <td>Juice Bar</td>\n",
       "      <td>Butcher</td>\n",
       "    </tr>\n",
       "  </tbody>\n",
       "</table>\n",
       "</div>"
      ],
      "text/plain": [
       "                                      Neighborhood 1st Most Common Venue  \\\n",
       "0                                        Agincourt        Clothing Store   \n",
       "1                           Alderwood, Long Branch           Pizza Place   \n",
       "2  Bathurst Manor, Wilson Heights, Downsview North           Coffee Shop   \n",
       "3                                  Bayview Village   Japanese Restaurant   \n",
       "4                Bedford Park, Lawrence Manor East        Sandwich Place   \n",
       "\n",
       "  2nd Most Common Venue 3rd Most Common Venue 4th Most Common Venue  \\\n",
       "0                Lounge        Breakfast Spot          Skating Rink   \n",
       "1        Sandwich Place           Coffee Shop                   Pub   \n",
       "2                  Bank              Pharmacy        Ice Cream Shop   \n",
       "3                  Café    Chinese Restaurant                  Bank   \n",
       "4    Italian Restaurant           Coffee Shop      Greek Restaurant   \n",
       "\n",
       "       5th Most Common Venue 6th Most Common Venue 7th Most Common Venue  \\\n",
       "0  Latin American Restaurant     Electronics Store      Doner Restaurant   \n",
       "1                   Pharmacy                   Gym      Greek Restaurant   \n",
       "2                Bridal Shop         Shopping Mall        Sandwich Place   \n",
       "3        Distribution Center               Dog Run      Doner Restaurant   \n",
       "4            Thai Restaurant             Locksmith          Liquor Store   \n",
       "\n",
       "     8th Most Common Venue      9th Most Common Venue 10th Most Common Venue  \n",
       "0               Donut Shop                  Drugstore    Dumpling Restaurant  \n",
       "1           Discount Store           Department Store           Dessert Shop  \n",
       "2                    Diner  Middle Eastern Restaurant             Restaurant  \n",
       "3               Donut Shop                  Drugstore            Yoga Studio  \n",
       "4  Comfort Food Restaurant                  Juice Bar                Butcher  "
      ]
     },
     "execution_count": 36,
     "metadata": {},
     "output_type": "execute_result"
    }
   ],
   "source": [
    "neighborhoods_venues_sorted.head()"
   ]
  },
  {
   "cell_type": "code",
   "execution_count": 37,
   "metadata": {},
   "outputs": [
    {
     "name": "stdout",
     "output_type": "stream",
     "text": [
      "The data frame 'neighborhoods_venues_sorted' states the 10 most common venues for each neighborhood.\n",
      "The data covers information for 100 different neighborhoods, i.e. rows\n"
     ]
    }
   ],
   "source": [
    "print(\"The data frame 'neighborhoods_venues_sorted' states the\", neighborhoods_venues_sorted.shape[1]-1,\"most common venues for each neighborhood.\")\n",
    "print(\"The data covers information for\",len(neighborhoods_venues_sorted['Neighborhood'].unique()),\"different neighborhoods, i.e. rows\")"
   ]
  },
  {
   "cell_type": "markdown",
   "metadata": {},
   "source": [
    "#### Identify the optimal number of clusters for k-means"
   ]
  },
  {
   "cell_type": "code",
   "execution_count": 38,
   "metadata": {},
   "outputs": [],
   "source": [
    "from sklearn.cluster import KMeans\n",
    "from sklearn.metrics import silhouette_score\n",
    "\n",
    "def calculate_WCSSE_sil(points, kmax):\n",
    "  global wcsse\n",
    "  wcsse = []\n",
    "  global sil\n",
    "  sil = []\n",
    "  for k in range(2, kmax+1):\n",
    "    \n",
    "    kmeans = KMeans(n_clusters = k, random_state=0).fit(points)\n",
    "    \n",
    "    ## calculate the within-cluster-sum of squared errors (WCSSE)\n",
    "    centroids = kmeans.cluster_centers_\n",
    "    pred_clusters = kmeans.predict(points)\n",
    "    curr_wcsse = 0\n",
    "    \n",
    "    # calculate square of Euclidean distance of each point from its cluster center and add to current WCSSE\n",
    "    for i in range(len(points)):\n",
    "      curr_center = centroids[pred_clusters[i]]\n",
    "      curr_wcsse += (np.linalg.norm(points[i] - curr_center)) ** 2\n",
    "\n",
    "    wcsse.append(curr_wcsse)\n",
    "    \n",
    "    ## calculate silhouette values\n",
    "    labels = kmeans.labels_\n",
    "    sil.append(silhouette_score(toronto_grouped_clustering_mat, labels, metric = 'euclidean'))\n"
   ]
  },
  {
   "cell_type": "code",
   "execution_count": 39,
   "metadata": {},
   "outputs": [],
   "source": [
    "toronto_grouped_clustering = toronto_grouped.drop('Neighborhood', 1)\n",
    "\n",
    "toronto_grouped_clustering_mat= 100*toronto_grouped_clustering.to_numpy()\n",
    "\n",
    "calculate_WCSSE_sil(toronto_grouped_clustering_mat, 15)"
   ]
  },
  {
   "cell_type": "code",
   "execution_count": 40,
   "metadata": {},
   "outputs": [
    {
     "data": {
      "image/png": "[encoded data removed]",
      "text/plain": [
       "<Figure size 432x288 with 1 Axes>"
      ]
     },
     "metadata": {
      "needs_background": "light"
     },
     "output_type": "display_data"
    }
   ],
   "source": [
    "import matplotlib.pyplot as plt\n",
    "k = range(2,16)\n",
    "plt.plot(k, wcsse, linewidth=2.0)\n",
    "plt.xlabel('number of clusters')\n",
    "plt.ylabel('within-cluster-sum of squared errors')\n",
    "plt.show()"
   ]
  },
  {
   "cell_type": "code",
   "execution_count": 41,
   "metadata": {
    "scrolled": true
   },
   "outputs": [
    {
     "data": {
      "image/png": "[encoded data removed]",
      "text/plain": [
       "<Figure size 432x288 with 1 Axes>"
      ]
     },
     "metadata": {
      "needs_background": "light"
     },
     "output_type": "display_data"
    }
   ],
   "source": [
    "plt.plot(k, sil, linewidth=2.0)\n",
    "plt.xlabel('number of clusters')\n",
    "plt.ylabel('silhouette coefficient')\n",
    "plt.show()"
   ]
  },
  {
   "cell_type": "markdown",
   "metadata": {},
   "source": [
    "The within-cluster-sum of squared errors (WCSSE) does not show any notable \"elbow point\". However, the silhouette coefficient is maximized at k=5. Therefore, k-means clusters will be fit using k=5."
   ]
  },
  {
   "cell_type": "markdown",
   "metadata": {},
   "source": [
    "#### Fitting k-means clusters with k=5"
   ]
  },
  {
   "cell_type": "code",
   "execution_count": 42,
   "metadata": {},
   "outputs": [
    {
     "name": "stdout",
     "output_type": "stream",
     "text": [
      "The silhouette coefficient is maximized at k= 5\n"
     ]
    },
    {
     "data": {
      "text/plain": [
       "array([[ 0, 86],\n",
       "       [ 1, 10],\n",
       "       [ 2,  1],\n",
       "       [ 3,  2],\n",
       "       [ 4,  1]], dtype=int64)"
      ]
     },
     "execution_count": 42,
     "metadata": {},
     "output_type": "execute_result"
    }
   ],
   "source": [
    "print(\"The silhouette coefficient is maximized at k=\",np.argmax(sil, axis=0)+2)\n",
    "kclusters_opt=np.argmax(sil, axis=0)+2\n",
    "\n",
    "# run k-means clustering\n",
    "kmeans = KMeans(n_clusters=kclusters_opt, random_state=0).fit(toronto_grouped_clustering_mat)\n",
    "\n",
    "# check cluster labels generated for each row in the dataframe\n",
    "np.array(np.unique(kmeans.labels_, return_counts=True)).T"
   ]
  },
  {
   "cell_type": "markdown",
   "metadata": {},
   "source": [
    "#### Prepare the final dataset containig postal codes, geospatial data, venue categories and cluster labels"
   ]
  },
  {
   "cell_type": "code",
   "execution_count": 43,
   "metadata": {},
   "outputs": [],
   "source": [
    "neighborhoods_venues_sorted.insert(0, 'Cluster Labels', kmeans.labels_)\n",
    "\n",
    "toronto_merged = toronto_hoods\n",
    "\n",
    "toronto_merged = toronto_merged.join(neighborhoods_venues_sorted.set_index('Neighborhood'), on='Neighborhood')"
   ]
  },
  {
   "cell_type": "code",
   "execution_count": 44,
   "metadata": {},
   "outputs": [
    {
     "name": "stdout",
     "output_type": "stream",
     "text": [
      "Initial size of the data frame: (103, 16)\n"
     ]
    }
   ],
   "source": [
    "# Three neighborhoods have NaN as they do not have any venues within a radius of 500 m from the centroid\n",
    "print(\"Initial size of the data frame:\",toronto_merged.shape)\n",
    "toronto_merged[toronto_merged.isnull().any(axis=1)]\n",
    "\n",
    "# Remove neighborhoods without venues\n",
    "toronto_merged.dropna(axis=0, inplace = True)"
   ]
  },
  {
   "cell_type": "code",
   "execution_count": 45,
   "metadata": {},
   "outputs": [
    {
     "data": {
      "text/html": [
       "<div>\n",
       "<style scoped>\n",
       "    .dataframe tbody tr th:only-of-type {\n",
       "        vertical-align: middle;\n",
       "    }\n",
       "\n",
       "    .dataframe tbody tr th {\n",
       "        vertical-align: top;\n",
       "    }\n",
       "\n",
       "    .dataframe thead th {\n",
       "        text-align: right;\n",
       "    }\n",
       "</style>\n",
       "<table border=\"1\" class=\"dataframe\">\n",
       "  <thead>\n",
       "    <tr style=\"text-align: right;\">\n",
       "      <th></th>\n",
       "      <th>PostalCode</th>\n",
       "      <th>Borough</th>\n",
       "      <th>Neighborhood</th>\n",
       "      <th>Latitude</th>\n",
       "      <th>Longitude</th>\n",
       "      <th>Cluster Labels</th>\n",
       "      <th>1st Most Common Venue</th>\n",
       "      <th>2nd Most Common Venue</th>\n",
       "      <th>3rd Most Common Venue</th>\n",
       "      <th>4th Most Common Venue</th>\n",
       "      <th>5th Most Common Venue</th>\n",
       "      <th>6th Most Common Venue</th>\n",
       "      <th>7th Most Common Venue</th>\n",
       "      <th>8th Most Common Venue</th>\n",
       "      <th>9th Most Common Venue</th>\n",
       "      <th>10th Most Common Venue</th>\n",
       "    </tr>\n",
       "  </thead>\n",
       "  <tbody>\n",
       "    <tr>\n",
       "      <th>0</th>\n",
       "      <td>M3A</td>\n",
       "      <td>North York</td>\n",
       "      <td>Parkwoods</td>\n",
       "      <td>43.753259</td>\n",
       "      <td>-79.329656</td>\n",
       "      <td>1.0</td>\n",
       "      <td>Park</td>\n",
       "      <td>Food &amp; Drink Shop</td>\n",
       "      <td>Yoga Studio</td>\n",
       "      <td>Dumpling Restaurant</td>\n",
       "      <td>Distribution Center</td>\n",
       "      <td>Dog Run</td>\n",
       "      <td>Doner Restaurant</td>\n",
       "      <td>Donut Shop</td>\n",
       "      <td>Drugstore</td>\n",
       "      <td>Electronics Store</td>\n",
       "    </tr>\n",
       "    <tr>\n",
       "      <th>1</th>\n",
       "      <td>M4A</td>\n",
       "      <td>North York</td>\n",
       "      <td>Victoria Village</td>\n",
       "      <td>43.725882</td>\n",
       "      <td>-79.315572</td>\n",
       "      <td>0.0</td>\n",
       "      <td>Pizza Place</td>\n",
       "      <td>Hockey Arena</td>\n",
       "      <td>Coffee Shop</td>\n",
       "      <td>Portuguese Restaurant</td>\n",
       "      <td>Intersection</td>\n",
       "      <td>Construction &amp; Landscaping</td>\n",
       "      <td>Dim Sum Restaurant</td>\n",
       "      <td>Event Space</td>\n",
       "      <td>Ethiopian Restaurant</td>\n",
       "      <td>Escape Room</td>\n",
       "    </tr>\n",
       "    <tr>\n",
       "      <th>2</th>\n",
       "      <td>M5A</td>\n",
       "      <td>Downtown Toronto</td>\n",
       "      <td>Regent Park, Harbourfront</td>\n",
       "      <td>43.654260</td>\n",
       "      <td>-79.360636</td>\n",
       "      <td>0.0</td>\n",
       "      <td>Coffee Shop</td>\n",
       "      <td>Bakery</td>\n",
       "      <td>Pub</td>\n",
       "      <td>Park</td>\n",
       "      <td>Breakfast Spot</td>\n",
       "      <td>Café</td>\n",
       "      <td>Theater</td>\n",
       "      <td>Spa</td>\n",
       "      <td>Brewery</td>\n",
       "      <td>Shoe Store</td>\n",
       "    </tr>\n",
       "    <tr>\n",
       "      <th>3</th>\n",
       "      <td>M6A</td>\n",
       "      <td>North York</td>\n",
       "      <td>Lawrence Manor, Lawrence Heights</td>\n",
       "      <td>43.718518</td>\n",
       "      <td>-79.464763</td>\n",
       "      <td>0.0</td>\n",
       "      <td>Clothing Store</td>\n",
       "      <td>Accessories Store</td>\n",
       "      <td>Boutique</td>\n",
       "      <td>Gift Shop</td>\n",
       "      <td>Furniture / Home Store</td>\n",
       "      <td>Event Space</td>\n",
       "      <td>Coffee Shop</td>\n",
       "      <td>Women's Store</td>\n",
       "      <td>Vietnamese Restaurant</td>\n",
       "      <td>Airport Service</td>\n",
       "    </tr>\n",
       "    <tr>\n",
       "      <th>4</th>\n",
       "      <td>M7A</td>\n",
       "      <td>Downtown Toronto</td>\n",
       "      <td>Queen's Park, Ontario Provincial Government</td>\n",
       "      <td>43.662301</td>\n",
       "      <td>-79.389494</td>\n",
       "      <td>0.0</td>\n",
       "      <td>Coffee Shop</td>\n",
       "      <td>Yoga Studio</td>\n",
       "      <td>College Auditorium</td>\n",
       "      <td>Bar</td>\n",
       "      <td>Beer Bar</td>\n",
       "      <td>Smoothie Shop</td>\n",
       "      <td>Sandwich Place</td>\n",
       "      <td>Café</td>\n",
       "      <td>Restaurant</td>\n",
       "      <td>Chinese Restaurant</td>\n",
       "    </tr>\n",
       "  </tbody>\n",
       "</table>\n",
       "</div>"
      ],
      "text/plain": [
       "  PostalCode           Borough                                 Neighborhood  \\\n",
       "0        M3A        North York                                    Parkwoods   \n",
       "1        M4A        North York                             Victoria Village   \n",
       "2        M5A  Downtown Toronto                    Regent Park, Harbourfront   \n",
       "3        M6A        North York             Lawrence Manor, Lawrence Heights   \n",
       "4        M7A  Downtown Toronto  Queen's Park, Ontario Provincial Government   \n",
       "\n",
       "    Latitude  Longitude  Cluster Labels 1st Most Common Venue  \\\n",
       "0  43.753259 -79.329656             1.0                  Park   \n",
       "1  43.725882 -79.315572             0.0           Pizza Place   \n",
       "2  43.654260 -79.360636             0.0           Coffee Shop   \n",
       "3  43.718518 -79.464763             0.0        Clothing Store   \n",
       "4  43.662301 -79.389494             0.0           Coffee Shop   \n",
       "\n",
       "  2nd Most Common Venue 3rd Most Common Venue  4th Most Common Venue  \\\n",
       "0     Food & Drink Shop           Yoga Studio    Dumpling Restaurant   \n",
       "1          Hockey Arena           Coffee Shop  Portuguese Restaurant   \n",
       "2                Bakery                   Pub                   Park   \n",
       "3     Accessories Store              Boutique              Gift Shop   \n",
       "4           Yoga Studio    College Auditorium                    Bar   \n",
       "\n",
       "    5th Most Common Venue       6th Most Common Venue 7th Most Common Venue  \\\n",
       "0     Distribution Center                     Dog Run      Doner Restaurant   \n",
       "1            Intersection  Construction & Landscaping    Dim Sum Restaurant   \n",
       "2          Breakfast Spot                        Café               Theater   \n",
       "3  Furniture / Home Store                 Event Space           Coffee Shop   \n",
       "4                Beer Bar               Smoothie Shop        Sandwich Place   \n",
       "\n",
       "  8th Most Common Venue  9th Most Common Venue 10th Most Common Venue  \n",
       "0            Donut Shop              Drugstore      Electronics Store  \n",
       "1           Event Space   Ethiopian Restaurant            Escape Room  \n",
       "2                   Spa                Brewery             Shoe Store  \n",
       "3         Women's Store  Vietnamese Restaurant        Airport Service  \n",
       "4                  Café             Restaurant     Chinese Restaurant  "
      ]
     },
     "execution_count": 45,
     "metadata": {},
     "output_type": "execute_result"
    }
   ],
   "source": [
    "toronto_merged.head()"
   ]
  },
  {
   "cell_type": "code",
   "execution_count": 46,
   "metadata": {},
   "outputs": [
    {
     "name": "stdout",
     "output_type": "stream",
     "text": [
      "Final size of the data frame: (100, 16)\n"
     ]
    }
   ],
   "source": [
    "print(\"Final size of the data frame:\",toronto_merged.shape)"
   ]
  },
  {
   "cell_type": "markdown",
   "metadata": {},
   "source": [
    "#### Plot the distribution of clusters"
   ]
  },
  {
   "cell_type": "code",
   "execution_count": 47,
   "metadata": {},
   "outputs": [
    {
     "data": {
      "text/html": [
       "<div style=\"width:100%;\"><div style=\"position:relative;width:100%;height:0;padding-bottom:60%;\"><span style=\"color:#565656\">Make this Notebook Trusted to load map: File -> Trust Notebook</span><iframe src=\"about:blank\" style=\"position:absolute;width:100%;height:100%;left:0;top:0;border:none !important;\" data-html=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 onload=\"this.contentDocument.open();this.contentDocument.write(atob(this.getAttribute('data-html')));this.contentDocument.close();\" allowfullscreen webkitallowfullscreen mozallowfullscreen></iframe></div></div>"
      ],
      "text/plain": [
       "<folium.folium.Map at 0x23badd09400>"
      ]
     },
     "execution_count": 47,
     "metadata": {},
     "output_type": "execute_result"
    }
   ],
   "source": [
    "# Matplotlib and associated plotting modules\n",
    "import matplotlib.cm as cm\n",
    "import matplotlib.colors as colors\n",
    "from geopy.geocoders import Nominatim\n",
    "import folium\n",
    "\n",
    "toronto_merged['Cluster Labels'] = toronto_merged['Cluster Labels'].astype(int)\n",
    "\n",
    "# get the coordinates of Toronto\n",
    "nominatim_inst = Nominatim(user_agent = \"foursquare_agent\")\n",
    "coord_toronto = nominatim_inst.geocode('Toronto')\n",
    "\n",
    "# create map\n",
    "toronto_map_clusters = folium.Map(location=[coord_toronto.latitude, coord_toronto.longitude], zoom_start=10)\n",
    "\n",
    "\n",
    "# set color scheme for the clusters\n",
    "x = np.arange(kclusters_opt)\n",
    "ys = [i + x + (i*x)**2 for i in range(kclusters_opt)]\n",
    "colors_array = cm.rainbow(np.linspace(0, 1, len(ys)))\n",
    "rainbow = [colors.rgb2hex(i) for i in colors_array]\n",
    "\n",
    "# add markers to the map\n",
    "markers_colors = []\n",
    "for lat, lon, poi, cluster in zip(toronto_merged['Latitude'], toronto_merged['Longitude'], toronto_merged['Neighborhood'], toronto_merged['Cluster Labels']):\n",
    "    label = folium.Popup(str(poi) + ' Cluster ' + str(cluster), parse_html=True)\n",
    "    folium.CircleMarker(\n",
    "        [lat, lon],\n",
    "        radius=5,\n",
    "        popup=label,\n",
    "        color=rainbow[cluster-1],\n",
    "        fill=True,\n",
    "        fill_color=rainbow[cluster-1],\n",
    "        fill_opacity=0.7).add_to(toronto_map_clusters)\n",
    "       \n",
    "toronto_map_clusters"
   ]
  }
 ],
 "metadata": {
  "kernelspec": {
   "display_name": "Python 3",
   "language": "python",
   "name": "python3"
  },
  "language_info": {
   "codemirror_mode": {
    "name": "ipython",
    "version": 3
   },
   "file_extension": ".py",
   "mimetype": "text/x-python",
   "name": "python",
   "nbconvert_exporter": "python",
   "pygments_lexer": "ipython3",
   "version": "3.8.3"
  }
 },
 "nbformat": 4,
 "nbformat_minor": 4
}
